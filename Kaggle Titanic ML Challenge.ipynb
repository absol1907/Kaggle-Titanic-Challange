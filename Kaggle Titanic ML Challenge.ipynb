{
 "cells": [
  {
   "cell_type": "code",
   "execution_count": 2,
   "id": "bcf43007",
   "metadata": {},
   "outputs": [],
   "source": [
    "import pandas as pd\n",
    "from sklearn.linear_model import LogisticRegression\n",
    "from sklearn.model_selection import RepeatedKFold\n",
    "import numpy as np\n",
    "import re"
   ]
  },
  {
   "cell_type": "markdown",
   "id": "38a37203",
   "metadata": {},
   "source": [
    "**First, let the code read dataframes**"
   ]
  },
  {
   "cell_type": "code",
   "execution_count": 5,
   "id": "71730cb9",
   "metadata": {},
   "outputs": [],
   "source": [
    "df_train = pd.DataFrame(pd.read_csv('train.csv'))\n",
    "df_test = pd.DataFrame(pd.read_csv('test.csv'))"
   ]
  },
  {
   "cell_type": "code",
   "execution_count": 6,
   "id": "9122a221",
   "metadata": {},
   "outputs": [
    {
     "data": {
      "text/plain": [
       "PassengerId      0\n",
       "Survived         0\n",
       "Pclass           0\n",
       "Name             0\n",
       "Sex              0\n",
       "Age            177\n",
       "SibSp            0\n",
       "Parch            0\n",
       "Ticket           0\n",
       "Fare             0\n",
       "Cabin          687\n",
       "Embarked         2\n",
       "dtype: int64"
      ]
     },
     "execution_count": 6,
     "metadata": {},
     "output_type": "execute_result"
    }
   ],
   "source": [
    "# This code finds how many NaN value our dataframe has\n",
    "df_train.isnull().sum()"
   ]
  },
  {
   "cell_type": "code",
   "execution_count": 9,
   "id": "32642834",
   "metadata": {},
   "outputs": [
    {
     "name": "stdout",
     "output_type": "stream",
     "text": [
      "Pclass\n",
      "1    38.233441\n",
      "2    29.877630\n",
      "3    25.140620\n",
      "Name: Age, dtype: float64\n",
      "\n",
      "\n",
      "Sex\n",
      "female    27.915709\n",
      "male      30.726645\n",
      "Name: Age, dtype: float64\n"
     ]
    }
   ],
   "source": [
    "# Printing mean value of the Age for Pclass and Sex\n",
    "print(df_train.groupby(['Pclass']).mean()['Age'])\n",
    "print('\\n')\n",
    "print(df_train.groupby(['Sex']).mean()['Age'])"
   ]
  },
  {
   "cell_type": "code",
   "execution_count": 10,
   "id": "59d31927",
   "metadata": {},
   "outputs": [],
   "source": [
    "# Defining a function for filling NaN files with mean values.\n",
    "def age_nan(df):\n",
    "    for i in df.Sex.unique():\n",
    "        for j in df.Pclass.unique():\n",
    "            x = df.loc[((df.Sex == i) & (df.Pclass == j)), 'Age'].mean()\n",
    "            df.loc[((df.Sex == i) & (df.Pclass == j)), 'Age'] = df.loc[\n",
    "                ((df.Sex == i) & (df.Pclass == j)), 'Age'].fillna(x)"
   ]
  },
  {
   "cell_type": "code",
   "execution_count": 11,
   "id": "0d1c65a9",
   "metadata": {},
   "outputs": [],
   "source": [
    "age_nan(df_train)\n",
    "age_nan(df_test)"
   ]
  },
  {
   "cell_type": "code",
   "execution_count": 13,
   "id": "624a7c8a",
   "metadata": {},
   "outputs": [],
   "source": [
    "# Filling NaN files of Embarked with the common value \"S\"\n",
    "df_train['Embarked'] = df_train['Embarked'].fillna('S')\n",
    "df_test['Embarked'] = df_test['Embarked'].fillna('S')\n",
    "\n",
    "df_train['Cabin_NaN'] = df_train['Cabin'].isnull().astype(int)\n",
    "df_test['Cabin_NaN'] = df_test['Cabin'].isnull().astype(int)\n",
    "\n",
    "# Filling NaN files of Fare with -1 (Only NaN value is -1)\n",
    "\n",
    "df_test.isnull().sum()\n",
    "\n",
    "df_test.Fare = df_test.Fare.fillna(-1)"
   ]
  },
  {
   "cell_type": "code",
   "execution_count": 14,
   "id": "2e857c16",
   "metadata": {},
   "outputs": [],
   "source": [
    "# Defining a fuction for logistic regression - cross validation function\n",
    "def reg_cross_val(variables):\n",
    "    X = df_train[variables]\n",
    "    y = df_train['Survived']\n",
    "\n",
    "    rkfold = RepeatedKFold(n_splits=2, n_repeats=10, random_state=10)\n",
    "    result = []\n",
    "    for treino, teste in rkfold.split(X):\n",
    "        X_train, X_test = X.iloc[treino], X.iloc[teste]\n",
    "        y_train, y_test = y.iloc[treino], y.iloc[teste]\n",
    "\n",
    "        reg = LogisticRegression(max_iter=500)\n",
    "        reg.fit(X_train, y_train)\n",
    "        result.append(reg.score(X_test, y_test))\n",
    "\n",
    "    return np.mean(result)"
   ]
  },
  {
   "cell_type": "code",
   "execution_count": 15,
   "id": "eb4a00ba",
   "metadata": {},
   "outputs": [],
   "source": [
    "# Creating Sex_bin column for cross validation\n",
    "def is_female(x):\n",
    "    if x == 'female':\n",
    "        return 1\n",
    "    else:\n",
    "        return 0\n",
    "    \n",
    "df_train['Sex_bin'] = df_train['Sex'].map(is_female)\n",
    "df_test['Sex_bin'] = df_test['Sex'].map(is_female)"
   ]
  },
  {
   "cell_type": "code",
   "execution_count": 17,
   "id": "9a1aa8f0",
   "metadata": {},
   "outputs": [],
   "source": [
    "# Creating Embarked_S and C columns for cross validation\n",
    "def embarked_s(x):\n",
    "    if x == 'S':\n",
    "        return 1\n",
    "    else:\n",
    "        return 0\n",
    "\n",
    "df_train['Embarked_S'] = df_train['Embarked'].map(embarked_s)\n",
    "df_test['Embarked_S'] = df_test['Embarked'].map(embarked_s)\n",
    "\n",
    "def embarked_c(x):\n",
    "    if x == 'C':\n",
    "        return 1\n",
    "    else:\n",
    "        return 0\n",
    "    \n",
    "df_train['Embarked_C'] = df_train['Embarked'].map(embarked_c)\n",
    "df_test['Embarked_C'] = df_test['Embarked'].map(embarked_c)"
   ]
  },
  {
   "cell_type": "code",
   "execution_count": 18,
   "id": "47068279",
   "metadata": {},
   "outputs": [
    {
     "name": "stdout",
     "output_type": "stream",
     "text": [
      "Before the new features: 0.7006696226129894\n",
      "With the new features: 0.8031352345442635\n"
     ]
    }
   ],
   "source": [
    "# Variable Defining for fist test\n",
    "variables_before = ['Age', 'Pclass', 'Fare', 'SibSp', 'Parch']\n",
    "print('Before the new features:', reg_cross_val(variables_before))\n",
    "\n",
    "variables = ['Age', 'Sex_bin', 'Pclass', 'Fare', 'SibSp', 'Parch', 'Embarked_S',\\\n",
    "             'Embarked_C', 'Cabin_NaN']\n",
    "\n",
    "print('With the new features:', reg_cross_val(variables))"
   ]
  },
  {
   "cell_type": "code",
   "execution_count": 19,
   "id": "a16819e9",
   "metadata": {},
   "outputs": [
    {
     "data": {
      "text/plain": [
       "0.8017879276464956"
      ]
     },
     "execution_count": 19,
     "metadata": {},
     "output_type": "execute_result"
    }
   ],
   "source": [
    "# Creating Family column\n",
    "df_train['Family'] = df_train.SibSp + df_train.Parch\n",
    "df_test['Family'] = df_test.SibSp + df_test.Parch\n",
    "\n",
    "variables = ['Age', 'Sex_bin', 'Pclass', 'Fare', 'Embarked_S', \\\n",
    "             'Embarked_C', 'Cabin_NaN', 'Family']\n",
    "\n",
    "reg_cross_val(variables)"
   ]
  },
  {
   "cell_type": "code",
   "execution_count": 20,
   "id": "06cd2d3b",
   "metadata": {},
   "outputs": [
    {
     "name": "stdout",
     "output_type": "stream",
     "text": [
      "Most repeated terms in Tickets: \n",
      "\n",
      "C        63\n",
      "PC       60\n",
      "A        58\n",
      "O        37\n",
      "STON     18\n",
      "SOTON    18\n",
      "S        15\n",
      "CA       13\n",
      "W        13\n",
      "SC       13\n",
      "dtype: int64\n"
     ]
    }
   ],
   "source": [
    "#Finding most common Ticket values\n",
    "text_ticket = ''\n",
    "for i in df_train.Ticket:\n",
    "    text_ticket += i\n",
    "\n",
    "listt = re.findall('[a-zA-Z]+', text_ticket)\n",
    "print('Most repeated terms in Tickets: \\n')\n",
    "print(pd.Series(listt).value_counts().head(10))\n",
    "\n",
    "# Creating features for most common Ticket values\n",
    "df_train['CA'] = df_train['Ticket'].str.contains('CA|C.A.').astype(int)\n",
    "df_train['SOTON'] = df_train['Ticket'].str.contains('SOTON|STON').astype(int)\n",
    "df_train['PC'] = df_train['Ticket'].str.contains('PC').astype(int)\n",
    "df_train['SC'] = df_train['Ticket'].str.contains('SC|S.C').astype(int)\n",
    "df_train['C'] = df_train['Ticket'].str.contains('C').astype(int)\n",
    "\n",
    "\n",
    "df_test['CA'] = df_test['Ticket'].str.contains('CA|C.A.').astype(int)\n",
    "df_test['SOTON'] = df_test['Ticket'].str.contains('SOTON|STON').astype(int)\n",
    "df_test['PC'] = df_test['Ticket'].str.contains('PC').astype(int)\n",
    "df_test['SC'] = df_test['Ticket'].str.contains('SC|S.C').astype(int)\n",
    "df_test['C'] = df_test['Ticket'].str.contains('C').astype(int)"
   ]
  },
  {
   "cell_type": "code",
   "execution_count": 21,
   "id": "f1dcd1fa",
   "metadata": {},
   "outputs": [
    {
     "name": "stdout",
     "output_type": "stream",
     "text": [
      "Most repeated words in Name column: \n",
      "\n",
      "Mr         521\n",
      "Miss       182\n",
      "Mrs        129\n",
      "William     49\n",
      "Master      40\n",
      "John        28\n",
      "Henry       19\n",
      "Thomas      17\n",
      "Charles     17\n",
      "George      16\n",
      "dtype: int64\n"
     ]
    }
   ],
   "source": [
    "#Finding most common Name values\n",
    "text_name = ''\n",
    "for i in df_train.Name:\n",
    "    text_name += i\n",
    "\n",
    "listt = re.findall('[a-zA-Z]+', text_name)\n",
    "print('Most repeated words in Name column: \\n')\n",
    "print(pd.Series(listt).value_counts().head(10))\n",
    "\n",
    "# Creating features for most common Name values\n",
    "df_train['Master'] = df_train['Name'].str.contains('Master').astype(int)\n",
    "df_train['Mr'] = df_train['Name'].str.contains('Mr').astype(int)\n",
    "df_train['Miss'] = df_train['Name'].str.contains('Miss').astype(int)\n",
    "df_train['Mrs'] = df_train['Name'].str.contains('Mrs').astype(int)\n",
    "\n",
    "\n",
    "df_test['Master'] = df_test['Name'].str.contains('Master').astype(int)\n",
    "df_test['Mr'] = df_test['Name'].str.contains('Mr').astype(int)\n",
    "df_test['Miss'] = df_test['Name'].str.contains('Miss').astype(int)\n",
    "df_test['Mrs'] = df_test['Name'].str.contains('Mrs').astype(int)"
   ]
  },
  {
   "cell_type": "code",
   "execution_count": 22,
   "id": "c4eaff6a",
   "metadata": {},
   "outputs": [
    {
     "name": "stdout",
     "output_type": "stream",
     "text": [
      "0.825021917670177\n"
     ]
    }
   ],
   "source": [
    "#Variable defining for second test\n",
    "variables = ['Age', 'Sex_bin', 'Pclass', 'Fare', 'Embarked_S', 'Embarked_C', \\\n",
    "             'CA', 'SOTON', 'PC', 'SC', 'C', 'Mr', 'Miss', 'Master', 'Mrs', 'Family']\n",
    "\n",
    "print(reg_cross_val(variables))"
   ]
  },
  {
   "cell_type": "code",
   "execution_count": 24,
   "id": "e28dff82",
   "metadata": {},
   "outputs": [
    {
     "data": {
      "text/plain": [
       "array([0, 1, 0, 0, 1, 0, 1, 0, 1, 0, 0, 0, 1, 0, 1, 1, 0, 0, 1, 1, 0, 1,\n",
       "       1, 0, 1, 0, 1, 0, 0, 0, 0, 0, 0, 0, 1, 0, 1, 1, 0, 0, 0, 0, 0, 1,\n",
       "       1, 0, 0, 0, 1, 1, 0, 0, 1, 1, 0, 0, 0, 0, 0, 1, 0, 0, 0, 1, 1, 1,\n",
       "       1, 0, 1, 1, 1, 0, 1, 1, 1, 1, 0, 1, 0, 1, 1, 0, 0, 0, 0, 0, 1, 1,\n",
       "       1, 1, 1, 0, 1, 0, 1, 0, 1, 0, 1, 0, 1, 0, 0, 0, 1, 0, 0, 0, 0, 0,\n",
       "       0, 1, 1, 1, 1, 0, 0, 1, 1, 1, 1, 0, 1, 0, 0, 1, 0, 0, 0, 0, 0, 1,\n",
       "       0, 0, 0, 0, 0, 0, 1, 0, 0, 1, 0, 0, 0, 0, 0, 0, 0, 0, 1, 0, 0, 1,\n",
       "       0, 0, 1, 1, 0, 1, 1, 1, 1, 0, 0, 1, 0, 0, 1, 1, 0, 0, 0, 0, 0, 1,\n",
       "       1, 0, 1, 1, 0, 0, 1, 0, 1, 0, 1, 0, 0, 0, 0, 0, 1, 0, 1, 0, 1, 1,\n",
       "       0, 1, 1, 1, 1, 1, 0, 0, 1, 0, 1, 0, 0, 0, 0, 1, 0, 0, 1, 0, 1, 0,\n",
       "       1, 0, 1, 0, 1, 1, 0, 1, 0, 0, 0, 1, 0, 0, 0, 0, 0, 0, 1, 1, 1, 1,\n",
       "       0, 0, 0, 0, 1, 0, 1, 1, 1, 0, 1, 0, 0, 0, 0, 0, 1, 0, 0, 0, 1, 1,\n",
       "       0, 0, 0, 0, 1, 0, 1, 0, 1, 1, 0, 1, 0, 0, 0, 0, 1, 1, 1, 1, 1, 0,\n",
       "       0, 1, 0, 0, 0, 1, 0, 0, 0, 0, 1, 0, 0, 0, 0, 0, 0, 0, 1, 1, 0, 1,\n",
       "       0, 1, 0, 0, 0, 1, 1, 1, 0, 0, 0, 0, 0, 0, 0, 0, 1, 0, 1, 0, 0, 0,\n",
       "       1, 0, 0, 1, 0, 1, 0, 0, 0, 1, 0, 0, 0, 1, 0, 1, 0, 1, 0, 1, 1, 0,\n",
       "       0, 0, 1, 0, 1, 0, 0, 1, 0, 1, 1, 0, 1, 0, 0, 1, 1, 0, 0, 1, 0, 0,\n",
       "       1, 1, 0, 0, 0, 0, 0, 0, 1, 1, 0, 1, 0, 0, 0, 0, 1, 1, 1, 0, 0, 1,\n",
       "       0, 1, 0, 0, 1, 0, 1, 0, 0, 0, 0, 0, 1, 1, 1, 1, 1, 0, 1, 0, 0, 1],\n",
       "      dtype=int64)"
      ]
     },
     "execution_count": 24,
     "metadata": {},
     "output_type": "execute_result"
    }
   ],
   "source": [
    "#Prediction of survival for people in the test.csv dataset\n",
    "variables = ['Age', 'Sex_bin', 'Pclass', 'Fare', 'Family', 'Embarked_S', 'Embarked_C', 'Cabin_NaN', \\\n",
    "             'CA', 'SOTON', 'PC', 'SC', 'Master', 'Mr', 'Miss', 'C', 'Mrs']\n",
    "\n",
    "X = df_train[variables]\n",
    "y = df_train['Survived']\n",
    "\n",
    "reg = LogisticRegression(max_iter=500)\n",
    "reg.fit(X, y)\n",
    "resp = reg.predict(df_test[variables])\n",
    "resp"
   ]
  },
  {
   "cell_type": "markdown",
   "id": "b25e0d4b",
   "metadata": {},
   "source": [
    "**Thank you for your attention**"
   ]
  },
  {
   "cell_type": "code",
   "execution_count": null,
   "id": "be0a1d1b",
   "metadata": {},
   "outputs": [],
   "source": []
  }
 ],
 "metadata": {
  "kernelspec": {
   "display_name": "Python 3 (ipykernel)",
   "language": "python",
   "name": "python3"
  },
  "language_info": {
   "codemirror_mode": {
    "name": "ipython",
    "version": 3
   },
   "file_extension": ".py",
   "mimetype": "text/x-python",
   "name": "python",
   "nbconvert_exporter": "python",
   "pygments_lexer": "ipython3",
   "version": "3.7.11"
  }
 },
 "nbformat": 4,
 "nbformat_minor": 5
}
